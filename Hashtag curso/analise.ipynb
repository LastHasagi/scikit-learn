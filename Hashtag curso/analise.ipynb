{
 "cells": [
  {
   "cell_type": "code",
   "execution_count": null,
   "metadata": {},
   "outputs": [],
   "source": [
    "import pandas as pd \n",
    "\n",
    "tabela = pd.read_excel('tabela.xlsx')\n",
    "\n",
    "display(tabela)"
   ]
  },
  {
   "cell_type": "code",
   "execution_count": null,
   "metadata": {},
   "outputs": [],
   "source": [
    "#remover cnpj, matriz/filial, exceção, razão social, nome fantasia, data situação,abertura, dd1, dd2, telefone, conversa (por enquanto), email, sócio\n",
    "#para excluir linha -> axis = 0\n",
    "#para excluir coluna -> axis = 1 \n",
    "\n",
    "colunas_excluir = ['CNPJ', 'Matriz ou Filial', 'EXCEÇÃO', 'Razao Social', 'Nome Fantasia', 'Data Situacao', 'Abertura', 'DDD1', 'Telefone1', 'DDD2', 'Telefone2', 'Conversa', 'E-mail', 'Socio']\n",
    "tabela = tabela.drop(columns=colunas_excluir)\n",
    "display(tabela)\n"
   ]
  },
  {
   "cell_type": "code",
   "execution_count": null,
   "metadata": {},
   "outputs": [],
   "source": [
    "#análise inicial dos dados da tabela \n",
    "\n",
    "display(tabela['Valida'].value_counts(normalize=True).map('{:.1%}'.format))\n",
    "display(tabela['Situacao'].value_counts(normalize=True).map('{:.1%}'.format))\n",
    "display(tabela['contato ativo?'].value_counts(normalize=True).map('{:.1%}'.format))\n",
    "display(tabela['Capital Social'].value_counts(normalize=True).map('{:.1%}'.format))\n",
    "\n"
   ]
  },
  {
   "cell_type": "code",
   "execution_count": 37,
   "metadata": {},
   "outputs": [
    {
     "data": {
      "text/plain": [
       "'Média de capital: 9473277.7'"
      ]
     },
     "metadata": {},
     "output_type": "display_data"
    }
   ],
   "source": [
    "#análise da média do capital das empresas \n",
    "\n",
    "capitaltotal = tabela['Capital Social'].sum()\n",
    "qntd_empresas = tabela['Valida'].count()\n",
    "\n",
    "mediacapital = capitaltotal/qntd_empresas\n",
    "display((\"Média de capital: {:.1f}\".format(mediacapital)))\n",
    "\n",
    "\n"
   ]
  }
 ],
 "metadata": {
  "kernelspec": {
   "display_name": "Python 3",
   "language": "python",
   "name": "python3"
  },
  "language_info": {
   "codemirror_mode": {
    "name": "ipython",
    "version": 3
   },
   "file_extension": ".py",
   "mimetype": "text/x-python",
   "name": "python",
   "nbconvert_exporter": "python",
   "pygments_lexer": "ipython3",
   "version": "3.11.4"
  },
  "orig_nbformat": 4
 },
 "nbformat": 4,
 "nbformat_minor": 2
}
